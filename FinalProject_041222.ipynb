{
 "cells": [
  {
   "cell_type": "code",
   "execution_count": 1,
   "id": "89645ef0",
   "metadata": {},
   "outputs": [],
   "source": [
    "#%%capture\n",
    "#!jupyter nbextension enable --py widgetsnbextension --sys-prefix\n",
    "#!jupyter serverextension enable voila --sys-prefix\n",
    "import sys\n",
    "#!{sys.executable} -m pip install pandas\n",
    "#!{sys.executable} -m pip install scipy"
   ]
  },
  {
   "cell_type": "code",
   "execution_count": 2,
   "id": "1dae665c",
   "metadata": {},
   "outputs": [],
   "source": [
    "import warnings\n",
    "warnings.simplefilter(action='ignore', category=FutureWarning)"
   ]
  },
  {
   "cell_type": "markdown",
   "id": "b280d096",
   "metadata": {},
   "source": [
    "# Z prime Calculator:"
   ]
  },
  {
   "cell_type": "code",
   "execution_count": 3,
   "id": "b90c7f75",
   "metadata": {},
   "outputs": [],
   "source": [
    "from __future__ import print_function\n",
    "from ipywidgets import interact, interactive, fixed, interact_manual, Button, HBox, VBox\n",
    "import ipywidgets as widgets\n",
    "from IPython.display import display, clear_output\n",
    "import pandas as pd\n",
    "import matplotlib.pyplot as plt\n",
    "from ipyfilechooser import FileChooser\n",
    "import os\n",
    "class color:\n",
    "   PURPLE = '\\033[95m'\n",
    "   CYAN = '\\033[96m'\n",
    "   DARKCYAN = '\\033[36m'\n",
    "   BLUE = '\\033[94m'\n",
    "   GREEN = '\\033[92m'\n",
    "   YELLOW = '\\033[93m'\n",
    "   RED = '\\033[91m'\n",
    "   BOLD = '\\033[1m'\n",
    "   UNDERLINE = '\\033[4m'\n",
    "   END = '\\033[0m'"
   ]
  },
  {
   "cell_type": "code",
   "execution_count": 23,
   "id": "4ebea59e",
   "metadata": {},
   "outputs": [],
   "source": [
    "os.chdir(\"/\")"
   ]
  },
  {
   "cell_type": "code",
   "execution_count": 24,
   "id": "ff267b6a",
   "metadata": {},
   "outputs": [
    {
     "data": {
      "application/vnd.jupyter.widget-view+json": {
       "model_id": "a62caff0aa4e46178830ed433c2455fc",
       "version_major": 2,
       "version_minor": 0
      },
      "text/plain": [
       "FileChooser(path='C:\\Users\\hlthi', filename='', title='', show_hidden=False, select_desc='Select', change_desc…"
      ]
     },
     "metadata": {},
     "output_type": "display_data"
    }
   ],
   "source": [
    "# Create and display a FileChooser widget for input file location\n",
    "fc_input = FileChooser()\n",
    "display(fc_input)\n",
    "fc_input.title = '<b>Input File Path:</b>'\n",
    "fc_input.selected_path"
   ]
  },
  {
   "cell_type": "code",
   "execution_count": 5,
   "id": "0542aab6",
   "metadata": {},
   "outputs": [
    {
     "name": "stdout",
     "output_type": "stream",
     "text": [
      "\u001b[1mDay 1:\u001b[0m\n",
      "Max:\n"
     ]
    },
    {
     "data": {
      "application/vnd.jupyter.widget-view+json": {
       "model_id": "451eacef9cab4636a9d564c578a333bb",
       "version_major": 2,
       "version_minor": 0
      },
      "text/plain": [
       "HBox(children=(VBox(children=(FileUpload(value={}, accept='.txt', description='Day 1, Plate 1'),)), VBox(child…"
      ]
     },
     "metadata": {},
     "output_type": "display_data"
    }
   ],
   "source": [
    "#Create button placeholders\n",
    "widget_dict={}\n",
    "for d in range(1,4):\n",
    "    for p in range(1,4):\n",
    "        for m in [\"max\", \"min\"]:\n",
    "            widget_dict[\"d\"+str(d)+\"p\"+str(p)+m]=widgets.FileUpload(\n",
    "                accept='.txt',\n",
    "                multiple=False,\n",
    "                description=\"Day \"+str(d)+\", Plate \"+str(p))\n",
    "\n",
    "#display day 1 max buttons\n",
    "print(color.BOLD + 'Day 1:' + color.END)\n",
    "print(\"Max:\")\n",
    "left_box=VBox([widget_dict[\"d1p1max\"]])\n",
    "middle_box=VBox([widget_dict[\"d1p2max\"]])\n",
    "right_box=VBox([widget_dict[\"d1p3max\"]])\n",
    "HBox([left_box, middle_box, right_box])"
   ]
  },
  {
   "cell_type": "code",
   "execution_count": 6,
   "id": "c13bad3b",
   "metadata": {},
   "outputs": [
    {
     "name": "stdout",
     "output_type": "stream",
     "text": [
      "Min:\n"
     ]
    },
    {
     "data": {
      "application/vnd.jupyter.widget-view+json": {
       "model_id": "5eb5d0fb5ad54af985ffd7c197ca4b62",
       "version_major": 2,
       "version_minor": 0
      },
      "text/plain": [
       "HBox(children=(VBox(children=(FileUpload(value={}, accept='.txt', description='Day 1, Plate 1'),)), VBox(child…"
      ]
     },
     "metadata": {},
     "output_type": "display_data"
    }
   ],
   "source": [
    "#display day 1 min buttons\n",
    "print(\"Min:\")\n",
    "left_box=VBox([widget_dict[\"d1p1min\"]])\n",
    "middle_box=VBox([widget_dict[\"d1p2min\"]])\n",
    "right_box=VBox([widget_dict[\"d1p3min\"]])\n",
    "HBox([left_box, middle_box, right_box])"
   ]
  },
  {
   "cell_type": "code",
   "execution_count": 7,
   "id": "b8da0c4d",
   "metadata": {},
   "outputs": [
    {
     "name": "stdout",
     "output_type": "stream",
     "text": [
      "\u001b[1mDay 2:\u001b[0m\n",
      "Max:\n"
     ]
    },
    {
     "data": {
      "application/vnd.jupyter.widget-view+json": {
       "model_id": "e714b6597be44eec9eaf3c8af8422247",
       "version_major": 2,
       "version_minor": 0
      },
      "text/plain": [
       "HBox(children=(VBox(children=(FileUpload(value={}, accept='.txt', description='Day 2, Plate 1'),)), VBox(child…"
      ]
     },
     "metadata": {},
     "output_type": "display_data"
    }
   ],
   "source": [
    "#display day 2 max buttons\n",
    "print(color.BOLD + 'Day 2:' + color.END)\n",
    "print(\"Max:\")\n",
    "left_box=VBox([widget_dict[\"d2p1max\"]])\n",
    "middle_box=VBox([widget_dict[\"d2p2max\"]])\n",
    "right_box=VBox([widget_dict[\"d2p3max\"]])\n",
    "HBox([left_box, middle_box, right_box])"
   ]
  },
  {
   "cell_type": "code",
   "execution_count": 8,
   "id": "cd863679",
   "metadata": {},
   "outputs": [
    {
     "name": "stdout",
     "output_type": "stream",
     "text": [
      "Min:\n"
     ]
    },
    {
     "data": {
      "application/vnd.jupyter.widget-view+json": {
       "model_id": "c61bc6eaff1e46dc913dcfa2b23cd300",
       "version_major": 2,
       "version_minor": 0
      },
      "text/plain": [
       "HBox(children=(VBox(children=(FileUpload(value={}, accept='.txt', description='Day 2, Plate 1'),)), VBox(child…"
      ]
     },
     "metadata": {},
     "output_type": "display_data"
    }
   ],
   "source": [
    "#display day 2 min buttons\n",
    "print(\"Min:\")\n",
    "left_box=VBox([widget_dict[\"d2p1min\"]])\n",
    "middle_box=VBox([widget_dict[\"d2p2min\"]])\n",
    "right_box=VBox([widget_dict[\"d2p3min\"]])\n",
    "HBox([left_box, middle_box, right_box])"
   ]
  },
  {
   "cell_type": "code",
   "execution_count": 9,
   "id": "11a376f0",
   "metadata": {},
   "outputs": [
    {
     "name": "stdout",
     "output_type": "stream",
     "text": [
      "\u001b[1mDay 3:\u001b[0m\n",
      "Max:\n"
     ]
    },
    {
     "data": {
      "application/vnd.jupyter.widget-view+json": {
       "model_id": "7b6f499f631443dbac47d603fd6a1f48",
       "version_major": 2,
       "version_minor": 0
      },
      "text/plain": [
       "HBox(children=(VBox(children=(FileUpload(value={}, accept='.txt', description='Day 3, Plate 1'),)), VBox(child…"
      ]
     },
     "metadata": {},
     "output_type": "display_data"
    }
   ],
   "source": [
    "#display day 3 max buttons\n",
    "print(color.BOLD + 'Day 3:' + color.END)\n",
    "print(\"Max:\")\n",
    "left_box=VBox([widget_dict[\"d3p1max\"]])\n",
    "middle_box=VBox([widget_dict[\"d3p2max\"]])\n",
    "right_box=VBox([widget_dict[\"d3p3max\"]])\n",
    "HBox([left_box, middle_box, right_box])"
   ]
  },
  {
   "cell_type": "code",
   "execution_count": 10,
   "id": "c5e8d1e0",
   "metadata": {},
   "outputs": [
    {
     "name": "stdout",
     "output_type": "stream",
     "text": [
      "Min:\n"
     ]
    },
    {
     "data": {
      "application/vnd.jupyter.widget-view+json": {
       "model_id": "f9694f58281948508cb36d25f0ed9c34",
       "version_major": 2,
       "version_minor": 0
      },
      "text/plain": [
       "HBox(children=(VBox(children=(FileUpload(value={}, accept='.txt', description='Day 3, Plate 1'),)), VBox(child…"
      ]
     },
     "metadata": {},
     "output_type": "display_data"
    }
   ],
   "source": [
    "#display day 3 min buttons\n",
    "print(\"Min:\")\n",
    "left_box=VBox([widget_dict[\"d3p1min\"]])\n",
    "middle_box=VBox([widget_dict[\"d3p2min\"]])\n",
    "right_box=VBox([widget_dict[\"d3p3min\"]])\n",
    "HBox([left_box, middle_box, right_box])"
   ]
  },
  {
   "cell_type": "code",
   "execution_count": 11,
   "id": "4105626b",
   "metadata": {},
   "outputs": [
    {
     "data": {
      "application/vnd.jupyter.widget-view+json": {
       "model_id": "af75ad8aa15844a199e872270a77858d",
       "version_major": 2,
       "version_minor": 0
      },
      "text/plain": [
       "FileChooser(path='C:\\Users\\hlthi', filename='', title='', show_hidden=False, select_desc='Select', change_desc…"
      ]
     },
     "metadata": {},
     "output_type": "display_data"
    },
    {
     "data": {
      "application/vnd.jupyter.widget-view+json": {
       "model_id": "f89819b70585411a98686eb15b77587e",
       "version_major": 2,
       "version_minor": 0
      },
      "text/plain": [
       "Text(value='', placeholder='Output File Name')"
      ]
     },
     "metadata": {},
     "output_type": "display_data"
    }
   ],
   "source": [
    "import os \n",
    "cwd=os.getcwd()\n",
    "\n",
    "# Create and display a FileChooser widget\n",
    "fc = FileChooser(cwd)\n",
    "display(fc)\n",
    "fc.default_path = cwd\n",
    "\n",
    "fc.title = '<b>Output File Path:</b>'\n",
    "\n",
    "#Output file name\n",
    "fn=widgets.Text(\n",
    "    placeholder='Output File Name',\n",
    "    disabled=False\n",
    ")\n",
    "display(fn)"
   ]
  },
  {
   "cell_type": "code",
   "execution_count": 12,
   "id": "c5d63489",
   "metadata": {},
   "outputs": [],
   "source": [
    "def Zprime_max(filepath, filelist):\n",
    "\n",
    "            o={}\n",
    "\n",
    "            for file in filelist:\n",
    "            #for i in file, make file a list containing text file names, if only 1 obviously only does below stuff once\n",
    "                from statistics import stdev\n",
    "                from statistics import mean\n",
    "                from scipy.stats import sem\n",
    "\n",
    "                df=pd.read_csv(str(filepath)+\"\\\\\"+file, sep=\"\\t\", header=0, names = [\"Well#\", \"Value\", \"Label\"])\n",
    "                df[[\"Plate\",\"Row\", \"Column\"]]=df.Label.str.split(\":\",expand=True)\n",
    "                data = df.drop(['Label','Plate'], axis=1)\n",
    "\n",
    "                cmpd = []\n",
    "                i=0\n",
    "                j=0\n",
    "                for i in range(6):\n",
    "                    for i in range(8):\n",
    "                        cmpd.append(\"V\")\n",
    "                        cmpd.append(\"A\")\n",
    "                        cmpd.append(\"I\")\n",
    "                        i+=1\n",
    "                    for i in range(8):\n",
    "                        cmpd.append(\"A\")\n",
    "                        cmpd.append(\"I\")\n",
    "                        cmpd.append(\"V\")\n",
    "                        i+=1\n",
    "                    for i in range(8):\n",
    "                        cmpd.append(\"I\")\n",
    "                        cmpd.append(\"V\")\n",
    "                        cmpd.append(\"A\")\n",
    "                        i+=1\n",
    "                    j+=1\n",
    "\n",
    "                df = pd.DataFrame(data = cmpd[0:384])\n",
    "                data[\"Cmpd\"]=df\n",
    "\n",
    "                veh=[]\n",
    "                act=[]\n",
    "                inh=[]\n",
    "\n",
    "                for i in range(len(data)):\n",
    "                    if data[\"Cmpd\"][i]==\"V\":\n",
    "                        veh.append(data[\"Value\"][i])\n",
    "                    if data[\"Cmpd\"][i]==\"A\":\n",
    "                        act.append(data[\"Value\"][i])\n",
    "                    if data[\"Cmpd\"][i]==\"I\":\n",
    "                        inh.append(data[\"Value\"][i])\n",
    "\n",
    "                avg_veh = mean(veh)\n",
    "                sem_veh = sem(veh)\n",
    "                avg_act = mean(act)\n",
    "                sem_act = sem(act)\n",
    "                avg_inh = mean(inh)\n",
    "                sem_inh = sem(inh)\n",
    "                Zact = 1 - (3*stdev(act)+3*stdev(veh))/abs((mean(act)-mean(veh)))\n",
    "                Zinh = 1 - (3*stdev(inh)+3*stdev(veh))/abs((mean(inh)-mean(veh)))\n",
    "\n",
    "                #what format do we want below in? Plate, Day, Set(?), how?\n",
    "                o[file] = {'Average (Veh)': avg_veh, 'SEM (Veh)': sem_veh, \n",
    "                     'Average (Act)': avg_act, 'SEM (Act)': sem_act,\n",
    "                    'Z (Act)': Zact}\n",
    "\n",
    "                final_df=pd.DataFrame()\n",
    "\n",
    "                for value in o.values():\n",
    "                    final_df=final_df.append(value, ignore_index=True)\n",
    "\n",
    "                final_df2 = pd.DataFrame(final_df.mean())\n",
    "                final_df2=final_df2.T\n",
    "                final_df=final_df.append(final_df2, ignore_index=True)\n",
    "\n",
    "                i=0\n",
    "                for key in o.keys():\n",
    "                    final_df=final_df.rename(index={i:key})\n",
    "                    i+=1\n",
    "\n",
    "                final_df=final_df.rename(index={i:\"Day Average:\"})\n",
    "                output=final_df\n",
    "\n",
    "            return(output)"
   ]
  },
  {
   "cell_type": "code",
   "execution_count": 13,
   "id": "19fe6f5c",
   "metadata": {},
   "outputs": [],
   "source": [
    "def Zprime_min(filepath, filelist):\n",
    "\n",
    "            o={}\n",
    "\n",
    "            for file in filelist:\n",
    "            #for i in file, make file a list containing text file names, if only 1 obviously only does below stuff once\n",
    "                from statistics import stdev\n",
    "                from statistics import mean\n",
    "                from scipy.stats import sem\n",
    "\n",
    "                df=pd.read_csv(str(filepath)+\"\\\\\"+file, sep=\"\\t\", header=0, names = [\"Well#\", \"Value\", \"Label\"])\n",
    "                df[[\"Plate\",\"Row\", \"Column\"]]=df.Label.str.split(\":\",expand=True)\n",
    "                data = df.drop(['Label','Plate'], axis=1)\n",
    "\n",
    "                cmpd = []\n",
    "                i=0\n",
    "                j=0\n",
    "                for i in range(6):\n",
    "                    for i in range(8):\n",
    "                        cmpd.append(\"V\")\n",
    "                        cmpd.append(\"A\")\n",
    "                        cmpd.append(\"I\")\n",
    "                        i+=1\n",
    "                    for i in range(8):\n",
    "                        cmpd.append(\"A\")\n",
    "                        cmpd.append(\"I\")\n",
    "                        cmpd.append(\"V\")\n",
    "                        i+=1\n",
    "                    for i in range(8):\n",
    "                        cmpd.append(\"I\")\n",
    "                        cmpd.append(\"V\")\n",
    "                        cmpd.append(\"A\")\n",
    "                        i+=1\n",
    "                    j+=1\n",
    "\n",
    "                df = pd.DataFrame(data = cmpd[0:384])\n",
    "                data[\"Cmpd\"]=df\n",
    "\n",
    "                veh=[]\n",
    "                act=[]\n",
    "                inh=[]\n",
    "\n",
    "                for i in range(len(data)):\n",
    "                    if data[\"Cmpd\"][i]==\"V\":\n",
    "                        veh.append(data[\"Value\"][i])\n",
    "                    if data[\"Cmpd\"][i]==\"A\":\n",
    "                        act.append(data[\"Value\"][i])\n",
    "                    if data[\"Cmpd\"][i]==\"I\":\n",
    "                        inh.append(data[\"Value\"][i])\n",
    "\n",
    "                avg_veh = mean(veh)\n",
    "                sem_veh = sem(veh)\n",
    "                avg_act = mean(act)\n",
    "                sem_act = sem(act)\n",
    "                avg_inh = mean(inh)\n",
    "                sem_inh = sem(inh)\n",
    "                Zact = 1 - (3*stdev(act)+3*stdev(veh))/abs((mean(act)-mean(veh)))\n",
    "                Zinh = 1 - (3*stdev(inh)+3*stdev(veh))/abs((mean(inh)-mean(veh)))\n",
    "\n",
    "                #what format do we want below in? Plate, Day, Set(?), how?\n",
    "                o[file] = {'Average (Veh)': avg_veh, 'SEM (Veh)': sem_veh, \n",
    "                     'Average (Inh)': avg_inh, 'SEM (Inh)': sem_inh,\n",
    "                           'Z (Inh)': Zinh}\n",
    "\n",
    "                final_df=pd.DataFrame()\n",
    "\n",
    "                for value in o.values():\n",
    "                    final_df=final_df.append(value, ignore_index=True)\n",
    "\n",
    "                final_df2 = pd.DataFrame(final_df.mean())\n",
    "                final_df2=final_df2.T\n",
    "                final_df=final_df.append(final_df2, ignore_index=True)\n",
    "\n",
    "                i=0\n",
    "                for key in o.keys():\n",
    "                    final_df=final_df.rename(index={i:key})\n",
    "                    i+=1\n",
    "\n",
    "                final_df=final_df.rename(index={i:\"Day Average:\"})\n",
    "                output=final_df\n",
    "\n",
    "            return(output)"
   ]
  },
  {
   "cell_type": "code",
   "execution_count": 14,
   "id": "f954fad3",
   "metadata": {},
   "outputs": [
    {
     "data": {
      "application/vnd.jupyter.widget-view+json": {
       "model_id": "bb4d1b75cdb34e0ca9f45932d2ec33f1",
       "version_major": 2,
       "version_minor": 0
      },
      "text/plain": [
       "Button(description='Submit!', style=ButtonStyle())"
      ]
     },
     "metadata": {},
     "output_type": "display_data"
    },
    {
     "data": {
      "application/vnd.jupyter.widget-view+json": {
       "model_id": "a3b82e2c58064ecaa604c23f4d3d1c37",
       "version_major": 2,
       "version_minor": 0
      },
      "text/plain": [
       "Output()"
      ]
     },
     "metadata": {},
     "output_type": "display_data"
    },
    {
     "name": "stdout",
     "output_type": "stream",
     "text": [
      "\n"
     ]
    }
   ],
   "source": [
    "button = widgets.Button(description=\"Submit!\")\n",
    "output = widgets.Output()\n",
    "\n",
    "display(button, output)\n",
    "\n",
    "print(\"\")\n",
    "def on_button_clicked(b):\n",
    "    with output:\n",
    "        #max\n",
    "        input_path=fc_input.selected_path\n",
    "        print(color.BOLD + 'Max:' + color.END)\n",
    "        print(\"\")\n",
    "        day1_max_file = [list(widget_dict[\"d1p1max\"].value.keys())[0], list(widget_dict[\"d1p2max\"].value.keys())[0], list(widget_dict[\"d1p3max\"].value.keys())[0]]\n",
    "        print(\"Day 1:\")\n",
    "        day1_max=Zprime_max(input_path, day1_max_file)\n",
    "        display(day1_max)\n",
    "        \n",
    "        day2_max_file = [list(widget_dict[\"d2p1max\"].value.keys())[0], list(widget_dict[\"d2p2max\"].value.keys())[0], list(widget_dict[\"d2p3max\"].value.keys())[0]]\n",
    "        print(\"Day 2:\")\n",
    "        day2_max=Zprime_max(input_path, day2_max_file)\n",
    "        display(day2_max)\n",
    "        \n",
    "        day3_max_file = [list(widget_dict[\"d3p1max\"].value.keys())[0], list(widget_dict[\"d3p2max\"].value.keys())[0], list(widget_dict[\"d3p3max\"].value.keys())[0]]\n",
    "        print(\"Day 3:\")\n",
    "        day3_max=Zprime_max(input_path, day3_max_file)\n",
    "        display(day3_max)\n",
    "        \n",
    "        Day1MaxAvg=pd.DataFrame(day1_max.loc['Day Average:', :]).T\n",
    "        Day2MaxAvg=pd.DataFrame(day2_max.loc['Day Average:', :]).T\n",
    "        Day3MaxAvg=pd.DataFrame(day3_max.loc['Day Average:', :]).T\n",
    "        \n",
    "        TotalAvgMax=Day1MaxAvg.append(Day1MaxAvg)\n",
    "        TotalAvgMax=TotalAvgMax.append(Day3MaxAvg)\n",
    "        TotalAvgMax_2 = pd.DataFrame(TotalAvgMax.mean())\n",
    "        TotalAvgMax_2=TotalAvgMax_2.T\n",
    "        TotalAvgMax_2.index = [\"Set Average:\"]\n",
    "\n",
    "        print(\"Set Average:\")\n",
    "        display(TotalAvgMax_2)\n",
    "        \n",
    "        dframe_max=pd.concat([day1_max,day2_max,day3_max,TotalAvgMax_2])\n",
    "        filename=fn.value\n",
    "        output_path=fc.selected_path\n",
    "        file_max=output_path+\"\\\\\"+filename+\"_max\"+\".csv\"\n",
    "        dframe_max.to_csv(file_max)\n",
    "        print(\"\")\n",
    "        \n",
    "        #min\n",
    "        print(color.BOLD + 'Min:' + color.END)\n",
    "        print(\"\")\n",
    "        day1_min_file = [list(widget_dict[\"d1p1min\"].value.keys())[0], list(widget_dict[\"d1p2min\"].value.keys())[0], list(widget_dict[\"d1p3min\"].value.keys())[0]]\n",
    "        print(\"Day 1:\")\n",
    "        day1_min=Zprime_min(input_path, day1_min_file)\n",
    "        display(day1_min)\n",
    "         \n",
    "        day2_min_file = [list(widget_dict[\"d2p1min\"].value.keys())[0], list(widget_dict[\"d2p2min\"].value.keys())[0], list(widget_dict[\"d2p3min\"].value.keys())[0]]\n",
    "        print(\"Day 2:\")\n",
    "        day2_min=Zprime_min(input_path, day2_min_file)\n",
    "        display(day2_min)\n",
    "        \n",
    "        day3_min_file = [list(widget_dict[\"d3p1min\"].value.keys())[0], list(widget_dict[\"d3p2min\"].value.keys())[0], list(widget_dict[\"d3p3min\"].value.keys())[0]]\n",
    "        print(\"Day 3:\")\n",
    "        day3_min=Zprime_min(input_path, day3_min_file)\n",
    "        display(day3_min)\n",
    "\n",
    "        Day1MinAvg=pd.DataFrame(day1_min.loc['Day Average:', :]).T\n",
    "        Day2MinAvg=pd.DataFrame(day2_min.loc['Day Average:', :]).T\n",
    "        Day3MinAvg=pd.DataFrame(day3_min.loc['Day Average:', :]).T\n",
    "        \n",
    "        TotalAvgMin=Day1MinAvg.append(Day1MinAvg)\n",
    "        TotalAvgMin=TotalAvgMin.append(Day3MinAvg)\n",
    "        TotalAvgMin_2 = pd.DataFrame(TotalAvgMin.mean())\n",
    "        TotalAvgMin_2=TotalAvgMin_2.T\n",
    "        TotalAvgMin_2.index = [\"Set Average:\"]\n",
    "\n",
    "        print(\"Set Average:\")\n",
    "        display(TotalAvgMin_2)\n",
    "        \n",
    "        dframe_min=pd.concat([day1_min,day2_min,day3_min,TotalAvgMin_2])\n",
    "        filename=fn.value\n",
    "        output_path=fc.selected_path\n",
    "        file_min=output_path+\"\\\\\"+filename+\"_min\"+\".csv\"\n",
    "        dframe_min.to_csv(file_min)\n",
    "\n",
    "button.on_click(on_button_clicked)"
   ]
  }
 ],
 "metadata": {
  "kernelspec": {
   "display_name": "Python 3 (ipykernel)",
   "language": "python",
   "name": "python3"
  },
  "language_info": {
   "codemirror_mode": {
    "name": "ipython",
    "version": 3
   },
   "file_extension": ".py",
   "mimetype": "text/x-python",
   "name": "python",
   "nbconvert_exporter": "python",
   "pygments_lexer": "ipython3",
   "version": "3.10.4"
  }
 },
 "nbformat": 4,
 "nbformat_minor": 5
}
