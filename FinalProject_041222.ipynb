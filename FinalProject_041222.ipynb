{
 "cells": [
  {
   "cell_type": "code",
   "execution_count": 1,
   "id": "89645ef0",
   "metadata": {},
   "outputs": [
    {
     "name": "stderr",
     "output_type": "stream",
     "text": [
      "Enabling notebook extension jupyter-js-widgets/extension...\n",
      "      - Validating: ok\n",
      "Enabling: voila\n",
      "- Writing config: C:\\Users\\hlthi\\jupyter_webapp_venv\\etc\\jupyter\n",
      "    - Validating...\n",
      "      voila 0.3.5 ok\n"
     ]
    },
    {
     "name": "stdout",
     "output_type": "stream",
     "text": [
      "Requirement already satisfied: pandas in c:\\users\\hlthi\\jupyter_webapp_venv\\lib\\site-packages (1.4.2)\n",
      "Requirement already satisfied: python-dateutil>=2.8.1 in c:\\users\\hlthi\\jupyter_webapp_venv\\lib\\site-packages (from pandas) (2.8.2)\n",
      "Requirement already satisfied: pytz>=2020.1 in c:\\users\\hlthi\\jupyter_webapp_venv\\lib\\site-packages (from pandas) (2022.1)\n",
      "Requirement already satisfied: numpy>=1.21.0 in c:\\users\\hlthi\\jupyter_webapp_venv\\lib\\site-packages (from pandas) (1.22.3)\n",
      "Requirement already satisfied: six>=1.5 in c:\\users\\hlthi\\jupyter_webapp_venv\\lib\\site-packages (from python-dateutil>=2.8.1->pandas) (1.16.0)\n"
     ]
    }
   ],
   "source": [
    "!jupyter nbextension enable --py widgetsnbextension --sys-prefix\n",
    "!jupyter serverextension enable voila --sys-prefix\n",
    "import sys\n",
    "!{sys.executable} -m pip install pandas"
   ]
  },
  {
   "cell_type": "code",
   "execution_count": null,
   "id": "1dae665c",
   "metadata": {},
   "outputs": [],
   "source": [
    "import warnings\n",
    "warnings.simplefilter(action='ignore', category=FutureWarning)"
   ]
  },
  {
   "cell_type": "markdown",
   "id": "b280d096",
   "metadata": {},
   "source": [
    "# Z prime Calculator:"
   ]
  },
  {
   "cell_type": "code",
   "execution_count": 45,
   "id": "b90c7f75",
   "metadata": {},
   "outputs": [
    {
     "name": "stdout",
     "output_type": "stream",
     "text": [
      "Z prime Calculator:\n",
      "\n",
      "Day 1:\n"
     ]
    },
    {
     "data": {
      "application/vnd.jupyter.widget-view+json": {
       "model_id": "106e1f0eb9fd4b9582d4b85ffda35ccc",
       "version_major": 2,
       "version_minor": 0
      },
      "text/plain": [
       "FileUpload(value={}, accept='.txt', description='Day 1, Plate 1:')"
      ]
     },
     "metadata": {},
     "output_type": "display_data"
    },
    {
     "data": {
      "application/vnd.jupyter.widget-view+json": {
       "model_id": "6a120c936a8243a79fd634301e8316cf",
       "version_major": 2,
       "version_minor": 0
      },
      "text/plain": [
       "FileUpload(value={}, accept='.txt', description='Day 1, Plate 2:')"
      ]
     },
     "metadata": {},
     "output_type": "display_data"
    },
    {
     "data": {
      "application/vnd.jupyter.widget-view+json": {
       "model_id": "6e16148a2a75480d8f9d9c2aacac7e7d",
       "version_major": 2,
       "version_minor": 0
      },
      "text/plain": [
       "FileUpload(value={}, accept='.txt', description='Day 1, Plate 3:')"
      ]
     },
     "metadata": {},
     "output_type": "display_data"
    },
    {
     "name": "stdout",
     "output_type": "stream",
     "text": [
      "Day 2:\n"
     ]
    },
    {
     "data": {
      "application/vnd.jupyter.widget-view+json": {
       "model_id": "292302a4ce5040bca7fe204f3d45b668",
       "version_major": 2,
       "version_minor": 0
      },
      "text/plain": [
       "FileUpload(value={}, accept='.txt', description='Day 2, Plate 1:')"
      ]
     },
     "metadata": {},
     "output_type": "display_data"
    },
    {
     "data": {
      "application/vnd.jupyter.widget-view+json": {
       "model_id": "989ba6f6e81f47ac94fe0ddba2133ed9",
       "version_major": 2,
       "version_minor": 0
      },
      "text/plain": [
       "FileUpload(value={}, accept='.txt', description='Day 2, Plate 2:')"
      ]
     },
     "metadata": {},
     "output_type": "display_data"
    },
    {
     "data": {
      "application/vnd.jupyter.widget-view+json": {
       "model_id": "07a1b2bcd20342118483edac18276fbd",
       "version_major": 2,
       "version_minor": 0
      },
      "text/plain": [
       "FileUpload(value={}, accept='.txt', description='Day 2, Plate 3:')"
      ]
     },
     "metadata": {},
     "output_type": "display_data"
    },
    {
     "name": "stdout",
     "output_type": "stream",
     "text": [
      "Day 3:\n"
     ]
    },
    {
     "data": {
      "application/vnd.jupyter.widget-view+json": {
       "model_id": "a80691fec9df4568922d6a095bfe8b2b",
       "version_major": 2,
       "version_minor": 0
      },
      "text/plain": [
       "FileUpload(value={}, accept='.txt', description='Day 3, Plate 1:')"
      ]
     },
     "metadata": {},
     "output_type": "display_data"
    },
    {
     "data": {
      "application/vnd.jupyter.widget-view+json": {
       "model_id": "18054be5eddb4788bc0ed7837078f825",
       "version_major": 2,
       "version_minor": 0
      },
      "text/plain": [
       "FileUpload(value={}, accept='.txt', description='Day 3, Plate 2:')"
      ]
     },
     "metadata": {},
     "output_type": "display_data"
    },
    {
     "data": {
      "application/vnd.jupyter.widget-view+json": {
       "model_id": "d49dba79a0dd4a959d4b0aee84cbe5f9",
       "version_major": 2,
       "version_minor": 0
      },
      "text/plain": [
       "FileUpload(value={}, accept='.txt', description='Day 3, Plate 3:')"
      ]
     },
     "metadata": {},
     "output_type": "display_data"
    }
   ],
   "source": [
    "from __future__ import print_function\n",
    "from ipywidgets import interact, interactive, fixed, interact_manual\n",
    "import ipywidgets as widgets\n",
    "from IPython.display import display, clear_output\n",
    "import pandas as pd\n",
    "import matplotlib.pyplot as plt\n",
    "from ipyfilechooser import FileChooser\n",
    "\n",
    "\n",
    "d1p1=widgets.FileUpload(\n",
    "    accept='.txt',  # Accepted file extension e.g. '.txt', '.pdf', 'image/*', 'image/*,.pdf'\n",
    "    multiple=False, # True to accept multiple files upload else False\n",
    "    description=\"Day 1, Plate 1:\"\n",
    ")\n",
    "\n",
    "d1p2=widgets.FileUpload(\n",
    "    accept='.txt',  # Accepted file extension e.g. '.txt', '.pdf', 'image/*', 'image/*,.pdf'\n",
    "    multiple=False, # True to accept multiple files upload else False\n",
    "    description=\"Day 1, Plate 2:\"\n",
    ")\n",
    "\n",
    "d1p3=widgets.FileUpload(\n",
    "    accept='.txt',  # Accepted file extension e.g. '.txt', '.pdf', 'image/*', 'image/*,.pdf'\n",
    "    multiple=False, # True to accept multiple files upload else False\n",
    "    description=\"Day 1, Plate 3:\"\n",
    ")\n",
    "\n",
    "d2p1=widgets.FileUpload(\n",
    "    accept='.txt',  # Accepted file extension e.g. '.txt', '.pdf', 'image/*', 'image/*,.pdf'\n",
    "    multiple=False, # True to accept multiple files upload else False\n",
    "    description=\"Day 2, Plate 1:\"\n",
    ")\n",
    "\n",
    "d2p2=widgets.FileUpload(\n",
    "    accept='.txt',  # Accepted file extension e.g. '.txt', '.pdf', 'image/*', 'image/*,.pdf'\n",
    "    multiple=False, # True to accept multiple files upload else False\n",
    "    description=\"Day 2, Plate 2:\"\n",
    ")\n",
    "\n",
    "d2p3=widgets.FileUpload(\n",
    "    accept='.txt',  # Accepted file extension e.g. '.txt', '.pdf', 'image/*', 'image/*,.pdf'\n",
    "    multiple=False, # True to accept multiple files upload else False\n",
    "    description=\"Day 2, Plate 3:\"\n",
    ")\n",
    "\n",
    "d3p1=widgets.FileUpload(\n",
    "    accept='.txt',  # Accepted file extension e.g. '.txt', '.pdf', 'image/*', 'image/*,.pdf'\n",
    "    multiple=False, # True to accept multiple files upload else False\n",
    "    description=\"Day 3, Plate 1:\"\n",
    ")\n",
    "\n",
    "d3p2=widgets.FileUpload(\n",
    "    accept='.txt',  # Accepted file extension e.g. '.txt', '.pdf', 'image/*', 'image/*,.pdf'\n",
    "    multiple=False, # True to accept multiple files upload else False\n",
    "    description=\"Day 3, Plate 2:\"\n",
    ")\n",
    "\n",
    "d3p3=widgets.FileUpload(\n",
    "    accept='.txt',  # Accepted file extension e.g. '.txt', '.pdf', 'image/*', 'image/*,.pdf'\n",
    "    multiple=False, # True to accept multiple files upload else False\n",
    "    description=\"Day 3, Plate 3:\"\n",
    ")\n",
    "\n",
    "print(\"\")\n",
    "print(\"Day 1:\")\n",
    "display(d1p1, d1p2, d1p3)\n",
    "print(\"Day 2:\")\n",
    "display(d2p1, d2p2, d2p3)\n",
    "print(\"Day 3:\")\n",
    "display(d3p1, d3p2, d3p3)\n"
   ]
  },
  {
   "cell_type": "code",
   "execution_count": 43,
   "id": "4105626b",
   "metadata": {},
   "outputs": [
    {
     "data": {
      "application/vnd.jupyter.widget-view+json": {
       "model_id": "29d56ea98b644bed807d37bb05935c91",
       "version_major": 2,
       "version_minor": 0
      },
      "text/plain": [
       "FileChooser(path='C:\\Users\\hlthi\\jupyter_webapp_demo', filename='', title='', show_hidden=False, select_desc='…"
      ]
     },
     "metadata": {},
     "output_type": "display_data"
    },
    {
     "data": {
      "application/vnd.jupyter.widget-view+json": {
       "model_id": "550f4798f5434e5aaa910bdcfcd2a6a5",
       "version_major": 2,
       "version_minor": 0
      },
      "text/plain": [
       "Text(value='', placeholder='Output File Name')"
      ]
     },
     "metadata": {},
     "output_type": "display_data"
    }
   ],
   "source": [
    "import os \n",
    "cwd=os.getcwd()\n",
    "\n",
    "# Create and display a FileChooser widget\n",
    "fc = FileChooser(cwd)\n",
    "display(fc)\n",
    "fc.default_path = cwd\n",
    "\n",
    "fc.title = '<b>Output File Path:</b>'\n",
    "\n",
    "#Output file name\n",
    "fn=widgets.Text(\n",
    "    placeholder='Output File Name',\n",
    "    disabled=False\n",
    ")\n",
    "display(fn)"
   ]
  },
  {
   "cell_type": "code",
   "execution_count": 40,
   "id": "f954fad3",
   "metadata": {},
   "outputs": [
    {
     "data": {
      "application/vnd.jupyter.widget-view+json": {
       "model_id": "5de5bb7bfe784dae94baed5089aaeeae",
       "version_major": 2,
       "version_minor": 0
      },
      "text/plain": [
       "Button(description='Submit!', style=ButtonStyle())"
      ]
     },
     "metadata": {},
     "output_type": "display_data"
    },
    {
     "data": {
      "application/vnd.jupyter.widget-view+json": {
       "model_id": "cd1d815d7169458ea56e1794064b798c",
       "version_major": 2,
       "version_minor": 0
      },
      "text/plain": [
       "Output()"
      ]
     },
     "metadata": {},
     "output_type": "display_data"
    },
    {
     "name": "stdout",
     "output_type": "stream",
     "text": [
      "\n"
     ]
    }
   ],
   "source": [
    "button = widgets.Button(description=\"Submit!\")\n",
    "output = widgets.Output()\n",
    "\n",
    "display(button, output)\n",
    "\n",
    "print(\"\")\n",
    "\n",
    "def on_button_clicked(b):\n",
    "    with output:\n",
    "        def Zprime(filelist):\n",
    "\n",
    "            o={}\n",
    "\n",
    "            for file in filelist:\n",
    "            #for i in file, make file a list containing text file names, if only 1 obviously only does below stuff once\n",
    "                from statistics import stdev\n",
    "                from statistics import mean\n",
    "                from scipy.stats import sem\n",
    "\n",
    "                df=pd.read_csv(file, sep=\"\\t\", header=0, names = [\"Well#\", \"Value\", \"Label\"])\n",
    "                df[[\"Plate\",\"Row\", \"Column\"]]=df.Label.str.split(\":\",expand=True)\n",
    "                data = df.drop(['Label','Plate'], axis=1)\n",
    "\n",
    "                cmpd = []\n",
    "                i=0\n",
    "                j=0\n",
    "                for i in range(6):\n",
    "                    for i in range(8):\n",
    "                        cmpd.append(\"V\")\n",
    "                        cmpd.append(\"A\")\n",
    "                        cmpd.append(\"I\")\n",
    "                        i+=1\n",
    "                    for i in range(8):\n",
    "                        cmpd.append(\"A\")\n",
    "                        cmpd.append(\"I\")\n",
    "                        cmpd.append(\"V\")\n",
    "                        i+=1\n",
    "                    for i in range(8):\n",
    "                        cmpd.append(\"I\")\n",
    "                        cmpd.append(\"V\")\n",
    "                        cmpd.append(\"A\")\n",
    "                        i+=1\n",
    "                    j+=1\n",
    "\n",
    "                df = pd.DataFrame(data = cmpd[0:384])\n",
    "                data[\"Cmpd\"]=df\n",
    "\n",
    "                veh=[]\n",
    "                act=[]\n",
    "                inh=[]\n",
    "\n",
    "                for i in range(len(data)):\n",
    "                    if data[\"Cmpd\"][i]==\"V\":\n",
    "                        veh.append(data[\"Value\"][i])\n",
    "                    if data[\"Cmpd\"][i]==\"A\":\n",
    "                        act.append(data[\"Value\"][i])\n",
    "                    if data[\"Cmpd\"][i]==\"I\":\n",
    "                        inh.append(data[\"Value\"][i])\n",
    "\n",
    "                avg_veh = mean(veh)\n",
    "                sem_veh = sem(veh)\n",
    "                avg_act = mean(act)\n",
    "                sem_act = sem(act)\n",
    "                avg_inh = mean(inh)\n",
    "                sem_inh = sem(inh)\n",
    "                Zact = 1 - (3*stdev(act)+3*stdev(veh))/abs((mean(act)-mean(veh)))\n",
    "                Zinh = 1 - (3*stdev(inh)+3*stdev(veh))/abs((mean(inh)-mean(veh)))\n",
    "\n",
    "                #what format do we want below in? Plate, Day, Set(?), how?\n",
    "                o[file] = {'Average (Veh)': avg_veh, 'SEM (Veh)': sem_veh, \n",
    "                     'Average (Act)': avg_act, 'SEM (Act)': sem_act,\n",
    "                     'Average (Inh)': avg_inh, 'SEM (Inh)': sem_inh,\n",
    "                    'Z (Act)': Zact,  'Z (Inh)': Zinh}\n",
    "\n",
    "                final_df=pd.DataFrame()\n",
    "\n",
    "                for value in o.values():\n",
    "                    final_df=final_df.append(value, ignore_index=True)\n",
    "\n",
    "                final_df2 = pd.DataFrame(final_df.mean())\n",
    "                final_df2=final_df2.T\n",
    "                final_df=final_df.append(final_df2, ignore_index=True)\n",
    "\n",
    "                i=0\n",
    "                for key in o.keys():\n",
    "                    final_df=final_df.rename(index={i:key})\n",
    "                    i+=1\n",
    "\n",
    "                final_df=final_df.rename(index={i:\"Day Average:\"})\n",
    "                output=final_df\n",
    "\n",
    "            return(output)\n",
    "\n",
    "        day1_file = [list(d1p1.value.keys())[0], list(d1p2.value.keys())[0], list(d1p3.value.keys())[0]]\n",
    "        print(\"Day 1:\")\n",
    "        day1=Zprime(day1_file)\n",
    "        display(day1)\n",
    "\n",
    "        day2_file = [list(d2p1.value.keys())[0], list(d2p2.value.keys())[0], list(d2p3.value.keys())[0]]\n",
    "        print(\"Day 2:\")\n",
    "        day2=Zprime(day2_file)\n",
    "        display(day2)\n",
    "\n",
    "        day3_file = [list(d3p1.value.keys())[0], list(d3p2.value.keys())[0], list(d3p3.value.keys())[0]]\n",
    "        print(\"Day 3:\")\n",
    "        day3=Zprime(day3_file)\n",
    "        display(day3)\n",
    "\n",
    "        Day1Avg=pd.DataFrame(day1.loc['Day Average:', :]).T\n",
    "        Day2Avg=pd.DataFrame(day2.loc['Day Average:', :]).T\n",
    "        Day3Avg=pd.DataFrame(day3.loc['Day Average:', :]).T\n",
    "\n",
    "        TotalAvg=Day1Avg.append(Day2Avg)\n",
    "        TotalAvg=TotalAvg.append(Day3Avg)\n",
    "        TotalAvg_2 = pd.DataFrame(TotalAvg.mean())\n",
    "        TotalAvg_2=TotalAvg_2.T\n",
    "        TotalAvg_2.index = [\"Set Average:\"]\n",
    "\n",
    "        print(\"Set Average:\")\n",
    "        display(TotalAvg_2)\n",
    "        dframe=pd.concat([day1,day2,day3,TotalAvg_2])\n",
    "        filename=fn.value\n",
    "        output_path=fc.selected_path\n",
    "        file=output_path+\"\\\\\"+filename+\".csv\"\n",
    "        dframe.to_csv(file)\n",
    "\n",
    "button.on_click(on_button_clicked)"
   ]
  }
 ],
 "metadata": {
  "kernelspec": {
   "display_name": "Python 3 (ipykernel)",
   "language": "python",
   "name": "python3"
  },
  "language_info": {
   "codemirror_mode": {
    "name": "ipython",
    "version": 3
   },
   "file_extension": ".py",
   "mimetype": "text/x-python",
   "name": "python",
   "nbconvert_exporter": "python",
   "pygments_lexer": "ipython3",
   "version": "3.10.4"
  }
 },
 "nbformat": 4,
 "nbformat_minor": 5
}
